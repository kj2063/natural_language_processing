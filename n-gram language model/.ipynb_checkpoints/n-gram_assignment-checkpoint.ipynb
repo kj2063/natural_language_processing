{
 "cells": [
  {
   "cell_type": "code",
   "execution_count": 1,
   "id": "ed853b33-76a1-48ad-a5d5-8f4db4347133",
   "metadata": {},
   "outputs": [],
   "source": [
    "import nltk\n",
    "from nltk.lm import MLE\n",
    "from nltk.lm.preprocessing import padded_everygram_pipeline\n",
    "\n",
    "import io"
   ]
  },
  {
   "cell_type": "code",
   "execution_count": 2,
   "id": "4c15d223-b570-4315-9a24-f1a6883dea0f",
   "metadata": {},
   "outputs": [
    {
     "name": "stderr",
     "output_type": "stream",
     "text": [
      "[nltk_data] Downloading package punkt to /Users/junkwon/nltk_data...\n",
      "[nltk_data]   Package punkt is already up-to-date!\n"
     ]
    },
    {
     "data": {
      "text/plain": [
       "True"
      ]
     },
     "execution_count": 2,
     "metadata": {},
     "output_type": "execute_result"
    }
   ],
   "source": [
    "#Tokenizer 다운로드\n",
    "nltk.download('punkt')"
   ]
  },
  {
   "cell_type": "code",
   "execution_count": 8,
   "id": "9e079c4f",
   "metadata": {},
   "outputs": [
    {
     "data": {
      "application/vnd.jupyter.widget-view+json": {
       "model_id": "4c56e02def904906aa0feb69b25ff92e",
       "version_major": 2,
       "version_minor": 0
      },
      "text/plain": [
       "test-00000-of-00001.parquet:   0%|          | 0.00/733k [00:00<?, ?B/s]"
      ]
     },
     "metadata": {},
     "output_type": "display_data"
    },
    {
     "data": {
      "application/vnd.jupyter.widget-view+json": {
       "model_id": "7dbea6a6ae67493ba08d0b73805d4ec1",
       "version_major": 2,
       "version_minor": 0
      },
      "text/plain": [
       "train-00000-of-00002.parquet:   0%|          | 0.00/157M [00:00<?, ?B/s]"
      ]
     },
     "metadata": {},
     "output_type": "display_data"
    },
    {
     "data": {
      "application/vnd.jupyter.widget-view+json": {
       "model_id": "ca0ef10b3da04baba8b17781bcb2e0d7",
       "version_major": 2,
       "version_minor": 0
      },
      "text/plain": [
       "train-00001-of-00002.parquet:   0%|          | 0.00/157M [00:00<?, ?B/s]"
      ]
     },
     "metadata": {},
     "output_type": "display_data"
    },
    {
     "data": {
      "application/vnd.jupyter.widget-view+json": {
       "model_id": "a2801fcb116248ba9f7f462cb0c6089e",
       "version_major": 2,
       "version_minor": 0
      },
      "text/plain": [
       "validation-00000-of-00001.parquet:   0%|          | 0.00/657k [00:00<?, ?B/s]"
      ]
     },
     "metadata": {},
     "output_type": "display_data"
    },
    {
     "data": {
      "application/vnd.jupyter.widget-view+json": {
       "model_id": "3243a1e976624cb3b0cd6e3edac6bc77",
       "version_major": 2,
       "version_minor": 0
      },
      "text/plain": [
       "Generating test split:   0%|          | 0/4358 [00:00<?, ? examples/s]"
      ]
     },
     "metadata": {},
     "output_type": "display_data"
    },
    {
     "data": {
      "application/vnd.jupyter.widget-view+json": {
       "model_id": "bb43ad6cec6f46c3a1d92f6a9cdcf875",
       "version_major": 2,
       "version_minor": 0
      },
      "text/plain": [
       "Generating train split:   0%|          | 0/1801350 [00:00<?, ? examples/s]"
      ]
     },
     "metadata": {},
     "output_type": "display_data"
    },
    {
     "data": {
      "application/vnd.jupyter.widget-view+json": {
       "model_id": "3dc664712cd8473fa44597f123356c1a",
       "version_major": 2,
       "version_minor": 0
      },
      "text/plain": [
       "Generating validation split:   0%|          | 0/3760 [00:00<?, ? examples/s]"
      ]
     },
     "metadata": {},
     "output_type": "display_data"
    }
   ],
   "source": [
    "# wikitext-103-v1 text 데이터 추출\n",
    "'''\n",
    "from datasets import load_dataset\n",
    "\n",
    "dataset = load_dataset(\"wikitext\", \"wikitext-103-raw-v1\")\n",
    "\n",
    "texts = dataset['train']['text'][:100000]\n",
    "\n",
    "cleaned_texts = []\n",
    "for text in texts:\n",
    "    text = text.strip()  \n",
    "    if not text:\n",
    "        continue  \n",
    "    if text.startswith('=') and text.endswith('='):\n",
    "        continue  \n",
    "    if len(text.split()) < 5:\n",
    "        continue  \n",
    "\n",
    "    cleaned_texts.append(text)\n",
    "\n",
    "with open(\"wikitext-103-raw-v1_train.txt\", \"w\", encoding=\"utf-8\") as f:\n",
    "    for line in cleaned_texts:\n",
    "        f.write(line + \" \")\n",
    "'''"
   ]
  },
  {
   "cell_type": "code",
   "execution_count": 10,
   "id": "dddf5ada-8067-4ca1-99f6-36ace88e3841",
   "metadata": {},
   "outputs": [
    {
     "name": "stdout",
     "output_type": "stream",
     "text": [
      "sentences num: 210792\n"
     ]
    }
   ],
   "source": [
    "with io.open('wikitext-103-raw-v1_train.txt', encoding='utf-8') as fin:\n",
    "    texts = fin.read()\n",
    "\n",
    "# Tokenize the text.\n",
    "sentences = nltk.sent_tokenize(texts)\n",
    "\n",
    "print(f\"sentences num: {len(sentences)}\")\n",
    "\n",
    "tokenized_texts = [list(map(str.lower, nltk.word_tokenize(sentence))) for sentence in sentences]\n",
    "\n",
    "n=3\n",
    "\n",
    "train_data, padded_vocab = padded_everygram_pipeline(n, tokenized_texts)\n",
    "\n",
    "# 모델 생성 및 학습\n",
    "model = MLE(n)  # Maximum Likelihood Estimator n-gram model\n",
    "model.fit(train_data, padded_vocab)"
   ]
  },
  {
   "cell_type": "code",
   "execution_count": 17,
   "id": "6d60b313-263d-49f4-a186-42c8f2d88dd5",
   "metadata": {},
   "outputs": [
    {
     "name": "stdout",
     "output_type": "stream",
     "text": [
      "['i', 'want', 'to', 'play']\n",
      "['hungary', \"'s\", 'ultimatum', 'to', 'serbia', 'after', 'the', 'injury', 'is', 'painless', 'but', 'it', 'also', 'received', 'praise', ',', 'though', 'usually', 'four', 'times', ',', '``', 'love', '[', 'd', ']', '``', '.', '</s>', '</s>', '</s>', '</s>', '</s>', '</s>', '</s>', '</s>', '</s>', '</s>', '</s>', '</s>', '</s>', '</s>', '</s>', '</s>', '</s>', '</s>', '</s>', '</s>', '</s>', '</s>', '</s>', '</s>', '</s>', '</s>', '</s>', '</s>', '</s>', '</s>', '</s>', '</s>', '</s>', '</s>', '</s>', '</s>', '</s>', '</s>', '</s>', '</s>', '</s>', '</s>', '</s>', '</s>', '</s>', '</s>', '</s>', '</s>', '</s>', '</s>', '</s>', '</s>', '</s>', '</s>', '</s>', '</s>', '</s>', '</s>', '</s>', '</s>', '</s>', '</s>', '</s>', '</s>', '</s>', '</s>', '</s>', '</s>', '</s>', '</s>', '</s>', '</s>', '</s>', '</s>', '</s>', '</s>', '</s>', '</s>', '</s>', '</s>', '</s>', '</s>', '</s>', '</s>', '</s>', '</s>', '</s>', '</s>', '</s>', '</s>', '</s>', '</s>', '</s>', '</s>', '</s>', '</s>', '</s>', '</s>', '</s>', '</s>', '</s>', '</s>', '</s>', '</s>', '</s>', '</s>', '</s>', '</s>', '</s>', '</s>', '</s>', '</s>', '</s>', '</s>', '</s>', '</s>', '</s>', '</s>', '</s>', '</s>', '</s>', '</s>', '</s>', '</s>', '</s>', '</s>', '</s>', '</s>', '</s>', '</s>', '</s>', '</s>', '</s>', '</s>', '</s>', '</s>', '</s>', '</s>', '</s>', '</s>', '</s>', '</s>', '</s>', '</s>', '</s>', '</s>', '</s>', '</s>', '</s>', '</s>', '</s>', '</s>', '</s>', '</s>', '</s>', '</s>', '</s>', '</s>', '</s>', '</s>', '</s>', '</s>', '</s>', '</s>', '</s>', '</s>', '</s>', '</s>', '</s>', '</s>', '</s>', '</s>']\n",
      "i want to play hungary 's ultimatum to serbia after the injury is painless but it also received praise , though usually four times , `` love [ d ] `` .\n"
     ]
    }
   ],
   "source": [
    "def generate_sent(model, num_words, text_seed, random_seed=0):\n",
    "    content = []\n",
    "    \n",
    "    generated_tokens = model.generate(num_words, text_seed=text_seed, random_seed=random_seed)\n",
    "    \n",
    "    print(generated_tokens)\n",
    "    \n",
    "    for token in generated_tokens:\n",
    "        if token == '<s>':\n",
    "            continue\n",
    "        if token == '</s>':\n",
    "            break\n",
    "        content.append(token)\n",
    "    return ' '.join(context + content)\n",
    "\n",
    "# generate output\n",
    "context_str = \"I want to play\"\n",
    "context = nltk.word_tokenize(context_str.lower())\n",
    "\n",
    "print(context)\n",
    "\n",
    "num_words = 200\n",
    "\n",
    "print(generate_sent(model, num_words, text_seed=context, random_seed=11))"
   ]
  }
 ],
 "metadata": {
  "kernelspec": {
   "display_name": "Python 3 (ipykernel)",
   "language": "python",
   "name": "python3"
  },
  "language_info": {
   "codemirror_mode": {
    "name": "ipython",
    "version": 3
   },
   "file_extension": ".py",
   "mimetype": "text/x-python",
   "name": "python",
   "nbconvert_exporter": "python",
   "pygments_lexer": "ipython3",
   "version": "3.8.16"
  }
 },
 "nbformat": 4,
 "nbformat_minor": 5
}
