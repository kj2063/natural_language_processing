{
 "cells": [
  {
   "cell_type": "code",
   "execution_count": 1,
   "id": "ed853b33-76a1-48ad-a5d5-8f4db4347133",
   "metadata": {},
   "outputs": [],
   "source": [
    "import nltk\n",
    "from nltk.lm import MLE\n",
    "from nltk.lm.preprocessing import padded_everygram_pipeline\n",
    "\n",
    "import io"
   ]
  },
  {
   "cell_type": "code",
   "execution_count": 2,
   "id": "4c15d223-b570-4315-9a24-f1a6883dea0f",
   "metadata": {},
   "outputs": [
    {
     "name": "stderr",
     "output_type": "stream",
     "text": [
      "[nltk_data] Downloading package punkt to /Users/junkwon/nltk_data...\n",
      "[nltk_data]   Package punkt is already up-to-date!\n"
     ]
    },
    {
     "data": {
      "text/plain": [
       "True"
      ]
     },
     "execution_count": 2,
     "metadata": {},
     "output_type": "execute_result"
    }
   ],
   "source": [
    "#Tokenizer 다운로드\n",
    "nltk.download('punkt')"
   ]
  },
  {
   "cell_type": "markdown",
   "id": "ee10cd12-62c6-4983-adbc-7ded7a1d7068",
   "metadata": {},
   "source": [
    "## Data Collection"
   ]
  },
  {
   "cell_type": "code",
   "execution_count": 26,
   "id": "9e079c4f",
   "metadata": {},
   "outputs": [
    {
     "ename": "IndentationError",
     "evalue": "expected an indented block (439641869.py, line 37)",
     "output_type": "error",
     "traceback": [
      "\u001b[1;36m  Cell \u001b[1;32mIn[26], line 37\u001b[1;36m\u001b[0m\n\u001b[1;33m    def text_regexp_processing(text):\u001b[0m\n\u001b[1;37m                                     ^\u001b[0m\n\u001b[1;31mIndentationError\u001b[0m\u001b[1;31m:\u001b[0m expected an indented block\n"
     ]
    }
   ],
   "source": [
    "# Children's Book Test text 데이터 추출\n",
    "'''\n",
    "from datasets import load_dataset\n",
    "import re\n",
    "\n",
    "dataset = load_dataset(\"cbt\", \"CN\")\n",
    "\n",
    "texts = dataset['train']['text'][:100000]\n",
    "\n",
    "cleaned_texts = []\n",
    "for text in texts:\n",
    "    text = text.strip()  \n",
    "    if not text:\n",
    "        continue  \n",
    "    if text.startswith('=') and text.endswith('='):\n",
    "        continue  \n",
    "    if len(text.split()) < 5:\n",
    "        continue  \n",
    "\n",
    "    text = text_regexp_processing(text)\n",
    "    \n",
    "    cleaned_texts.append(text)\n",
    "\n",
    "with open(\"cbt_train.txt\", \"w\", encoding=\"utf-8\") as f:\n",
    "    for line in cleaned_texts:\n",
    "        f.write(line + \" \")\n",
    "'''\n",
    "\n",
    "def text_regexp_processing(text):\n",
    "    # 1. 괄호 및 괄호 안 내용 제거\n",
    "    text = re.sub(r'\\([^)]*\\)', '', text)\n",
    "\n",
    "    # 2. 축약어 ' 토큰 생성\n",
    "    text = re.sub(r\"(\\w)'(\\w)\", r\"\\1APOSTROPHE\\2\", text)\n",
    "    \n",
    "    # 3. 마침표(.)를 제외한 특수문자 제거\n",
    "    text = re.sub(r'[^a-zA-Z0-9.\\s]', '', text)\n",
    "\n",
    "    # 4. 축약어 토큰 -> ' 로 변경\n",
    "    text = text.replace(\"APOSTROPHE\", \"'\")\n",
    "    \n",
    "    return text"
   ]
  },
  {
   "cell_type": "markdown",
   "id": "c689fd8a-a151-4fc6-a1a1-90cbd95a7e5c",
   "metadata": {},
   "source": [
    "## Model Training"
   ]
  },
  {
   "cell_type": "code",
   "execution_count": 10,
   "id": "dddf5ada-8067-4ca1-99f6-36ace88e3841",
   "metadata": {},
   "outputs": [
    {
     "name": "stdout",
     "output_type": "stream",
     "text": [
      "sentences num: 210792\n"
     ]
    }
   ],
   "source": [
    "with io.open('wikitext-103-raw-v1_train.txt', encoding='utf-8') as fin:\n",
    "    texts = fin.read()\n",
    "\n",
    "# Tokenize the text.\n",
    "sentences = nltk.sent_tokenize(texts)\n",
    "\n",
    "print(f\"sentences num: {len(sentences)}\")\n",
    "\n",
    "tokenized_texts = [list(map(str.lower, nltk.word_tokenize(sentence))) for sentence in sentences]\n",
    "\n",
    "n=3\n",
    "\n",
    "train_data, padded_vocab = padded_everygram_pipeline(n, tokenized_texts)\n",
    "\n",
    "# 모델 생성 및 학습\n",
    "model = MLE(n)\n",
    "model.fit(train_data, padded_vocab)"
   ]
  },
  {
   "cell_type": "markdown",
   "id": "61b2c420-73f9-463a-8be9-3752bad6e70d",
   "metadata": {},
   "source": [
    "## Generate Results"
   ]
  },
  {
   "cell_type": "code",
   "execution_count": 20,
   "id": "6d60b313-263d-49f4-a186-42c8f2d88dd5",
   "metadata": {},
   "outputs": [],
   "source": [
    "def generate_sent(model, num_words, context, random_seed=0):\n",
    "    content = []\n",
    "\n",
    "    text_seed = nltk.word_tokenize(context.lower())\n",
    "    \n",
    "    generated_tokens = model.generate(num_words, text_seed=text_seed, random_seed=random_seed)\n",
    "    \n",
    "    print(generated_tokens)\n",
    "    \n",
    "    for token in generated_tokens:\n",
    "        if token == '<s>':\n",
    "            continue\n",
    "        if token == '</s>':\n",
    "            break\n",
    "        content.append(token)\n",
    "    return ' '.join(text_seed + content)"
   ]
  },
  {
   "cell_type": "markdown",
   "id": "33b0bcdd-21e8-4a83-9baa-07f0d2062103",
   "metadata": {},
   "source": [
    "## Result"
   ]
  },
  {
   "cell_type": "code",
   "execution_count": 21,
   "id": "fb19323b-7663-441d-873f-b7ae2bd80e22",
   "metadata": {},
   "outputs": [
    {
     "name": "stdout",
     "output_type": "stream",
     "text": [
      "['dunning', '’', 's', 'mle', ',', 'particularly', 'when', 'combining', 'the', 'fre-', 'quencies', 'of', 'the', 'target', 'verb', 'and', 'scf', 'will', 'never', 'be', 'random', '.', '</s>', '</s>', '</s>', '</s>', '</s>', '</s>', '</s>', '</s>', '</s>', '</s>', '</s>', '</s>', '</s>', '</s>', '</s>', '</s>', '</s>', '</s>', '</s>', '</s>', '</s>', '</s>', '</s>', '</s>', '</s>', '</s>', '</s>', '</s>', '</s>', '</s>', '</s>', '</s>', '</s>', '</s>', '</s>', '</s>', '</s>', '</s>', '</s>', '</s>', '</s>', '</s>', '</s>', '</s>', '</s>', '</s>', '</s>', '</s>', '</s>', '</s>', '</s>', '</s>', '</s>', '</s>', '</s>', '</s>', '</s>', '</s>', '</s>', '</s>', '</s>', '</s>', '</s>', '</s>', '</s>', '</s>', '</s>', '</s>', '</s>', '</s>', '</s>', '</s>', '</s>', '</s>', '</s>', '</s>', '</s>', '</s>', '</s>', '</s>', '</s>', '</s>', '</s>', '</s>', '</s>', '</s>', '</s>', '</s>', '</s>', '</s>', '</s>', '</s>', '</s>', '</s>', '</s>', '</s>', '</s>', '</s>', '</s>', '</s>', '</s>', '</s>', '</s>', '</s>', '</s>', '</s>', '</s>', '</s>', '</s>', '</s>', '</s>', '</s>', '</s>', '</s>', '</s>', '</s>', '</s>', '</s>', '</s>', '</s>', '</s>', '</s>', '</s>', '</s>', '</s>', '</s>', '</s>', '</s>', '</s>', '</s>', '</s>', '</s>', '</s>', '</s>', '</s>', '</s>', '</s>', '</s>', '</s>', '</s>', '</s>', '</s>', '</s>', '</s>', '</s>', '</s>', '</s>', '</s>', '</s>', '</s>', '</s>', '</s>', '</s>', '</s>', '</s>', '</s>', '</s>', '</s>', '</s>', '</s>', '</s>', '</s>', '</s>', '</s>', '</s>', '</s>', '</s>', '</s>', '</s>', '</s>', '</s>', '</s>', '</s>', '</s>', '</s>', '</s>', '</s>', '</s>']\n",
      "i want to play dunning ’ s mle , particularly when combining the fre- quencies of the target verb and scf will never be random .\n"
     ]
    }
   ],
   "source": [
    "# generate output\n",
    "context = \"I want to play\"\n",
    "num_words = 200\n",
    "random_seed = 11\n",
    "\n",
    "print(generate_sent(model, num_words, context=context, random_seed=random_seed))"
   ]
  }
 ],
 "metadata": {
  "kernelspec": {
   "display_name": "Python 3 (ipykernel)",
   "language": "python",
   "name": "python3"
  },
  "language_info": {
   "codemirror_mode": {
    "name": "ipython",
    "version": 3
   },
   "file_extension": ".py",
   "mimetype": "text/x-python",
   "name": "python",
   "nbconvert_exporter": "python",
   "pygments_lexer": "ipython3",
   "version": "3.9.13"
  }
 },
 "nbformat": 4,
 "nbformat_minor": 5
}
